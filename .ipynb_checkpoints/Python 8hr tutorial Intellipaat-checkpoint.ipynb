{
 "cells": [
  {
   "cell_type": "code",
   "execution_count": 1,
   "metadata": {},
   "outputs": [
    {
     "data": {
      "text/plain": [
       "3"
      ]
     },
     "execution_count": 1,
     "metadata": {},
     "output_type": "execute_result"
    }
   ],
   "source": [
    "1+2"
   ]
  },
  {
   "cell_type": "code",
   "execution_count": 2,
   "metadata": {},
   "outputs": [
    {
     "ename": "SyntaxError",
     "evalue": "invalid syntax (<ipython-input-2-4ba231212066>, line 2)",
     "output_type": "error",
     "traceback": [
      "\u001b[0;36m  File \u001b[0;32m\"<ipython-input-2-4ba231212066>\"\u001b[0;36m, line \u001b[0;32m2\u001b[0m\n\u001b[0;31m    int a = 10\u001b[0m\n\u001b[0m        ^\u001b[0m\n\u001b[0;31mSyntaxError\u001b[0m\u001b[0;31m:\u001b[0m invalid syntax\n"
     ]
    }
   ],
   "source": [
    "a= 10\n",
    "int a = 10"
   ]
  },
  {
   "cell_type": "code",
   "execution_count": 3,
   "metadata": {},
   "outputs": [],
   "source": [
    "name = \"Raj\"\n",
    "salary = 200023.234"
   ]
  },
  {
   "cell_type": "code",
   "execution_count": 6,
   "metadata": {},
   "outputs": [
    {
     "name": "stdout",
     "output_type": "stream",
     "text": [
      "12\n"
     ]
    }
   ],
   "source": [
    "#assigning values to variables\n",
    "a= 12\n",
    "b=12\n",
    "c=12\n",
    "a=b=c=12\n",
    "x = 20\n",
    "y = 30\n",
    "z = 40\n",
    "x,y,z = 10,20,30\n",
    "print(a)"
   ]
  },
  {
   "cell_type": "code",
   "execution_count": 7,
   "metadata": {},
   "outputs": [],
   "source": [
    "##python token - smallest meaningfull component\n",
    "keywords -\n",
    "    \n",
    "    Python Keywords are special reserved word\n",
    "    \n",
    "    Convey a special meaning to the compiler/interpreter\n",
    "    \n",
    "    NOT A VARIABLE\n",
    "        TRUE, FALSE, NONE, AND AS, DEF, ELSE, IF, ELIF, RETURN,ETC...\n",
    "\n",
    "Identifiers - the name used to identify a variable, function, class or an object. \n",
    "    \n",
    "    RULES defined for naming identifiers:\n",
    "        \n",
    "        No special character except underscore can be used\n",
    "        \n",
    "        keywords should not be used as identifiers\n",
    "        \n",
    "        python is case sensitive\n",
    "        \n",
    "        the first letter of an identifier can be underscore, but not number.\n",
    "\n",
    "Literals- Constants used in python\n",
    "    \n",
    "    4 types of literals\n",
    "    \n",
    "    String Literals - string in single and double quotes and triple single quotes\n",
    "        name1 = \"John\"\n",
    "        name2 = 'james'\n",
    "        mutliline = see below\n",
    "    \n",
    "    Numeric Literals - 0-9 int, long, float(decimal)\n",
    "    \n",
    "    Boolean Literals - true or false\n",
    "    \n",
    "    pecial Literals - NONE is same as null or nan"
   ]
  },
  {
   "cell_type": "code",
   "execution_count": 9,
   "metadata": {},
   "outputs": [
    {
     "name": "stdout",
     "output_type": "stream",
     "text": [
      "\n",
      "str1\n",
      "str2\n",
      "str3\n",
      "\n"
     ]
    }
   ],
   "source": [
    "multiline = '''\n",
    "str1\n",
    "str2\n",
    "str3\n",
    "'''\n",
    "print(multiline)\n"
   ]
  },
  {
   "cell_type": "code",
   "execution_count": null,
   "metadata": {},
   "outputs": [],
   "source": [
    "##Operators in Python\n",
    "    \n",
    "    1. Arithmetic Operator\n",
    "        Takes 2 operand to perform operation on them\n",
    "            eg +,-,*,/,%\n",
    "    \n",
    "    2. Assignment Operator\n",
    "        Asigns value to a variable\n",
    "            eg =,+=,-=,*=\n",
    "    \n",
    "    3. Comparison Operator\n",
    "        Compare 2 values and return true or false\n",
    "            eg <,>,<=,>=,!=\n",
    "    \n",
    "    4. Logical Operator\n",
    "        Performs logical operation and returns true or false as output\n",
    "            eg and, or, not.. see below\n",
    "    \n",
    "    5. Bitwise Operator\n",
    "        Used to perform bitwise calculations\n",
    "            eg &,|,>>,<<,~.. see below\n",
    "    \n",
    "    6. Identity Operator\n",
    "        Used to test if the two operands share an identity\n",
    "            Operators - is, is not\n",
    "    \n",
    "    7. Membership Operator\n",
    "        Used to test wether a value is a member of a sequence\n",
    "            Operators - in, not in.. see below\n"
   ]
  },
  {
   "cell_type": "code",
   "execution_count": 10,
   "metadata": {},
   "outputs": [
    {
     "name": "stdout",
     "output_type": "stream",
     "text": [
      "False\n"
     ]
    }
   ],
   "source": [
    "##Logical Operator:\n",
    "a=10<10 and 2>-1 ##false and true = false\n",
    "print(a)"
   ]
  },
  {
   "cell_type": "code",
   "execution_count": 13,
   "metadata": {},
   "outputs": [
    {
     "data": {
      "text/plain": [
       "5"
      ]
     },
     "execution_count": 13,
     "metadata": {},
     "output_type": "execute_result"
    }
   ],
   "source": [
    "##Bitwise Operator:\n",
    "7 | 5 #7\n",
    "7&5 # 5"
   ]
  },
  {
   "cell_type": "code",
   "execution_count": 15,
   "metadata": {},
   "outputs": [
    {
     "data": {
      "text/plain": [
       "True"
      ]
     },
     "execution_count": 15,
     "metadata": {},
     "output_type": "execute_result"
    }
   ],
   "source": [
    "##Membership Operator\n",
    "pets=['dog','cat','wolf']\n",
    "'liger' in pets ## FALSE\n",
    "'wolf' in pets ##TRUE"
   ]
  },
  {
   "cell_type": "code",
   "execution_count": null,
   "metadata": {},
   "outputs": [],
   "source": [
    "## Python Datatypes\n",
    "1.Mutable - Can be changed and modified\n",
    "        A.Dictionaries - Agroup of value within{}\n",
    "            \n",
    "            Empty Dictionary - myDict = {}\n",
    "            \n",
    "            Integer Keys - dict with integer keys - eg .. myDict= {1:'apple', 2: 'ball'}\n",
    "            \n",
    "            Mixed  Key - key of many datatypes\n",
    "            \n",
    "            Paring - from sequence having each item as a pair..myDict = dict([(1,'apple'),(2, 'ball')])\n",
    "            \n",
    "            Accessing Dictionary - myDict = {1:'word1', 2: 'word2'}... myDict[1]...word1\n",
    "            \n",
    "            len() - gives length of dict\n",
    "            \n",
    "            key() - gives all keys in dict\n",
    "            \n",
    "            values() - gives all values in dict\n",
    "            \n",
    "        B.Lists - Group of values within [].. can be mixed types\n",
    "            \n",
    "            ##SEE BELOW\n",
    "            \n",
    "            Concatenate\n",
    "            \n",
    "            Repetation #same as tuples\n",
    "            \n",
    "            Slicing## same as tuples\n",
    "            \n",
    "            Append - adding any value to list eg .. mylist.append(\"10\") -- adds to the end of list\n",
    "            \n",
    "            Extend - used to concat two differet strings eg .. ##see below\n",
    "            \n",
    "            Insert- enter a number at a certain index ##SEE BELOW\n",
    "            \n",
    "        C.Sets - Unordered collection of item within {}\n",
    "            \n",
    "            Creating set >>mySet = {1,2,3,4}\n",
    "            \n",
    "            Intersection\n",
    "            \n",
    "            Difference\n",
    "            \n",
    "            \n",
    "    \n",
    "2.Immutable - Cannot be changed or Modified\n",
    "        \n",
    "        A.Strings - find() replace() split() count() upper() max()/min()\n",
    "        \n",
    "        B.Numbers - Integers(0-9), float(decimals), Long, \n",
    "        \n",
    "        C.Tuples - Group of values within () eg >>>mygroup = ('a','b','c','d')\n",
    "            \n",
    "            Concatination - Adss two strings and Characters together ###SEE BELOW\n",
    "            \n",
    "            Repetation - Duplicate string / character by given number of times..##SEE BELOW\n",
    "            \n",
    "            Indexing - Shows the indexed character/string eg .. myGroup[2] >> ('c')\n",
    "            \n",
    "            Slicing - Shows a specific set of indexed character/string eg .. mygroup[1:4] >> ('b','c','d','f')"
   ]
  },
  {
   "cell_type": "code",
   "execution_count": 16,
   "metadata": {},
   "outputs": [
    {
     "name": "stdout",
     "output_type": "stream",
     "text": [
      "H\n",
      "t\n"
     ]
    }
   ],
   "source": [
    " #extracting certain indecies\n",
    "str1 = \"Hello World\"\n",
    "dtr2 = \"Intelligent\"\n",
    "print(str1[0])\n",
    "print(dtr2[-1])"
   ]
  },
  {
   "cell_type": "code",
   "execution_count": 17,
   "metadata": {},
   "outputs": [
    {
     "data": {
      "text/plain": [
       "6"
      ]
     },
     "execution_count": 17,
     "metadata": {},
     "output_type": "execute_result"
    }
   ],
   "source": [
    "#find() - finds the index of the value passed in\n",
    "str = \"Attachment\"\n",
    "str.find(\"me\")"
   ]
  },
  {
   "cell_type": "code",
   "execution_count": 18,
   "metadata": {},
   "outputs": [
    {
     "data": {
      "text/plain": [
       "'Attachmnt'"
      ]
     },
     "execution_count": 18,
     "metadata": {},
     "output_type": "execute_result"
    }
   ],
   "source": [
    "#replace() - replaces segment of string with something else\n",
    "str.replace(\"me\",\"m\")"
   ]
  },
  {
   "cell_type": "code",
   "execution_count": 21,
   "metadata": {},
   "outputs": [
    {
     "data": {
      "text/plain": [
       "['w', 'rd1,w', 'rd2,w', 'rd3']"
      ]
     },
     "execution_count": 21,
     "metadata": {},
     "output_type": "execute_result"
    }
   ],
   "source": [
    "#split() - splits a string at the value passed in \n",
    "splitstr = \"word1,word2,word3\"\n",
    "splitstr.split(\"o\")"
   ]
  },
  {
   "cell_type": "code",
   "execution_count": 22,
   "metadata": {},
   "outputs": [
    {
     "data": {
      "text/plain": [
       "1"
      ]
     },
     "execution_count": 22,
     "metadata": {},
     "output_type": "execute_result"
    }
   ],
   "source": [
    "#count() - return the count of the characters in the string\n",
    "str3 = \"Intelligent\"\n",
    "str3.count(\"i\")\n",
    "#got count as one because it was looking for lower case i"
   ]
  },
  {
   "cell_type": "code",
   "execution_count": 23,
   "metadata": {},
   "outputs": [],
   "source": [
    "str4 = str3.upper()"
   ]
  },
  {
   "cell_type": "code",
   "execution_count": 24,
   "metadata": {},
   "outputs": [
    {
     "data": {
      "text/plain": [
       "2"
      ]
     },
     "execution_count": 24,
     "metadata": {},
     "output_type": "execute_result"
    }
   ],
   "source": [
    "str4.count(\"I\")"
   ]
  },
  {
   "cell_type": "code",
   "execution_count": 27,
   "metadata": {},
   "outputs": [
    {
     "data": {
      "text/plain": [
       "'b'"
      ]
     },
     "execution_count": 27,
     "metadata": {},
     "output_type": "execute_result"
    }
   ],
   "source": [
    "##max()/min() - Returns the max or min value(ASCII)\n",
    "str = '!@4123AbaCC'\n",
    "max(str)"
   ]
  },
  {
   "cell_type": "code",
   "execution_count": 28,
   "metadata": {},
   "outputs": [
    {
     "data": {
      "text/plain": [
       "'!'"
      ]
     },
     "execution_count": 28,
     "metadata": {},
     "output_type": "execute_result"
    }
   ],
   "source": [
    "min(str)"
   ]
  },
  {
   "cell_type": "code",
   "execution_count": 29,
   "metadata": {},
   "outputs": [
    {
     "name": "stdout",
     "output_type": "stream",
     "text": [
      "('a', 'b', 'c', 'd', 'e', 'f')\n"
     ]
    }
   ],
   "source": [
    "##Concatenation\n",
    "mytuple = ('a','b','c','d')\n",
    "mytuple1 = ('e','f')\n",
    "mytuple+=mytuple1\n",
    "print(mytuple)"
   ]
  },
  {
   "cell_type": "code",
   "execution_count": 30,
   "metadata": {},
   "outputs": [
    {
     "data": {
      "text/plain": [
       "('a', 'b', 'c', 'd', 'e', 'f', 'a', 'b', 'c', 'd', 'e', 'f')"
      ]
     },
     "execution_count": 30,
     "metadata": {},
     "output_type": "execute_result"
    }
   ],
   "source": [
    "##REPATATION\n",
    "mytuple * 2\n"
   ]
  },
  {
   "cell_type": "code",
   "execution_count": 31,
   "metadata": {},
   "outputs": [],
   "source": [
    "##LIST\n",
    "mylist = ['a',123.22,12,'python']"
   ]
  },
  {
   "cell_type": "code",
   "execution_count": 32,
   "metadata": {},
   "outputs": [],
   "source": [
    "mylist2 = [\"Python\", 20]"
   ]
  },
  {
   "cell_type": "code",
   "execution_count": 33,
   "metadata": {},
   "outputs": [
    {
     "name": "stdout",
     "output_type": "stream",
     "text": [
      "['a', 123.22, 12, 'python', 'Python', 20]\n"
     ]
    }
   ],
   "source": [
    "mylist+=mylist2\n",
    "print(mylist)"
   ]
  },
  {
   "cell_type": "code",
   "execution_count": 34,
   "metadata": {},
   "outputs": [],
   "source": [
    "mylist.remove(\"Python\")"
   ]
  },
  {
   "cell_type": "code",
   "execution_count": 35,
   "metadata": {},
   "outputs": [
    {
     "name": "stdout",
     "output_type": "stream",
     "text": [
      "['a', 123.22, 12, 'python', 20]\n"
     ]
    }
   ],
   "source": [
    "print(mylist\n",
    "     )"
   ]
  },
  {
   "cell_type": "code",
   "execution_count": 39,
   "metadata": {},
   "outputs": [
    {
     "name": "stdout",
     "output_type": "stream",
     "text": [
      "['a', 30, 123.22, 69, 12, 'python', 20, ['c', 'd'], 'c', 'd']\n"
     ]
    }
   ],
   "source": [
    "###lists###extend\n",
    "mylist3 = [\"c\",\"d\"]\n",
    "mylist.extend(mylist3)\n",
    "print(mylist)"
   ]
  },
  {
   "cell_type": "code",
   "execution_count": 40,
   "metadata": {},
   "outputs": [
    {
     "name": "stdout",
     "output_type": "stream",
     "text": [
      "['a', 30, 123.22, 69, 69, 12, 'python', 20, ['c', 'd'], 'c', 'd']\n"
     ]
    }
   ],
   "source": [
    "##insert - \n",
    "mylist.insert(3, 69)\n",
    "print(mylist)"
   ]
  },
  {
   "cell_type": "code",
   "execution_count": null,
   "metadata": {},
   "outputs": [],
   "source": [
    "##Flow Control\n",
    "\n",
    "Flow Control - Defines the flow of the execution of program\n",
    "    if-else if, else\n",
    "    Nested if-else - if, elif, else\n",
    "    for \n",
    "    while -- while true do this else do that\n",
    "    break\n",
    "    continue"
   ]
  },
  {
   "cell_type": "code",
   "execution_count": null,
   "metadata": {},
   "outputs": [],
   "source": []
  }
 ],
 "metadata": {
  "kernelspec": {
   "display_name": "Python 3",
   "language": "python",
   "name": "python3"
  },
  "language_info": {
   "codemirror_mode": {
    "name": "ipython",
    "version": 3
   },
   "file_extension": ".py",
   "mimetype": "text/x-python",
   "name": "python",
   "nbconvert_exporter": "python",
   "pygments_lexer": "ipython3",
   "version": "3.7.4"
  }
 },
 "nbformat": 4,
 "nbformat_minor": 2
}
